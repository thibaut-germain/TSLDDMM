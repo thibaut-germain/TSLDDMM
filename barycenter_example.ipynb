{
 "cells": [
  {
   "cell_type": "code",
   "execution_count": null,
   "metadata": {},
   "outputs": [],
   "source": [
    "import numpy as np\n",
    "import jax.numpy as jnp\n",
    "import matplotlib.pyplot as plt\n",
    "import optax\n",
    "from optax.schedules import  warmup_cosine_decay_schedule\n",
    "\n",
    "from src.utils import from_timeseries_to_dataset, batch_dataset,unbatch_dataset\n",
    "from src.kernel import VFTSGaussKernel, TSGaussGaussKernel, GaussKernel, ExpKernel,TSExpExpKernel,VFTSExpKernel,MyTSGaussKernel\n",
    "from src.lddmm import varifold_registration, Shooting, Flowing, batch_varifold_time_initializer,batch_one_to_many_varifold_registration\n",
    "from src.plotting import plot2Dfigure\n",
    "from src.barycenter import batch_varifold_barycenter_time_registration, batch_varifolld_barycenter_initializer,batch_varifold_barycenter_registration, batch_barycenter_registration\n",
    "from src.loss import VarifoldLoss,MyLoss"
   ]
  },
  {
   "cell_type": "code",
   "execution_count": null,
   "metadata": {},
   "outputs": [],
   "source": []
  },
  {
   "cell_type": "code",
   "execution_count": null,
   "metadata": {},
   "outputs": [],
   "source": [
    "from loadmydata.load_uea_ucr import load_uea_ucr_data\n",
    "\n",
    "dataset_name = \"ECG200\" #\"ECGFiveDays\"\n",
    "data = load_uea_ucr_data(dataset_name)\n",
    "\n",
    "print(data.description)\n",
    "print(data.X_train.shape)\n",
    "print(data.X_test.shape)\n",
    "print(data.y_train.shape)\n",
    "print(data.y_test.shape)"
   ]
  },
  {
   "cell_type": "code",
   "execution_count": null,
   "metadata": {},
   "outputs": [],
   "source": [
    "X = data.X_train\n",
    "X,X_mask = from_timeseries_to_dataset(X)\n",
    "bX,bX_mask = batch_dataset(X,X.shape[0],X_mask)"
   ]
  },
  {
   "cell_type": "code",
   "execution_count": null,
   "metadata": {},
   "outputs": [],
   "source": [
    "Kv = VFTSGaussKernel(1,0.1,35,1,1)\n",
    "Kl = MyTSGaussKernel(3,1,1)\n",
    "shoot = Shooting(Kv)\n",
    "flow = Flowing(Kv)\n",
    "\n",
    "loss = MyLoss(Kl)\n",
    "init,init_mask = X[10],X_mask[10]\n",
    "bp,qbar,qbar_mask = batch_barycenter_registration(bX,bX_mask,Kv,loss,init,init_mask,niter=800,optimizer=optax.adam(warmup_cosine_decay_schedule(0,0.01,80,800,0)))"
   ]
  },
  {
   "cell_type": "code",
   "execution_count": null,
   "metadata": {},
   "outputs": [],
   "source": [
    "plt.plot(*X[0].T)\n",
    "plt.plot(*qbar.T)"
   ]
  },
  {
   "cell_type": "code",
   "execution_count": null,
   "metadata": {},
   "outputs": [],
   "source": [
    "for x in X: \n",
    "    plt.plot(*x.T,color=\"black\",alpha=0.2)\n",
    "\n",
    "plt.plot(*qbar.T,color = \"red\")"
   ]
  },
  {
   "cell_type": "code",
   "execution_count": null,
   "metadata": {},
   "outputs": [],
   "source": [
    "\n",
    "plot2Dfigure(qbar,bX[0,1],bp[0,1],shoot,flow,qbar_mask,bX_mask[0,1])"
   ]
  },
  {
   "cell_type": "code",
   "execution_count": null,
   "metadata": {},
   "outputs": [],
   "source": [
    "iKv = GaussKernel(20)\n",
    "iKl = TSGaussGaussKernel(1,1,1,1)\n",
    "Kv = VFTSGaussKernel(1,0.1,35,1,1)\n",
    "Kl = TSGaussGaussKernel(1,1,1,1)\n",
    "shoot = Shooting(Kv)\n",
    "flow = Flowing(Kv)\n",
    "\n",
    "idx0 = 8\n",
    "idx1 = 11\n",
    "\n",
    "#init = batch_varifold_time_initializer(iKv,Kl,0,400,optax.adam(warmup_cosine_decay_schedule(0,0.1,40,400,0)),verbose=True)\n",
    "#bp,q,qm = batch_one_to_many_varifold_registration(X[idx0],X_mask[idx0],bX,bX_mask,Kv,Kl,batched_p0=init,niter=400,optimizer = optax.adam(warmup_cosine_decay_schedule(0,0.3,40,400,0)))\n",
    "#plot2Dfigure(X[idx0],X[idx1],p,shoot,flow,X_mask[idx0],X_mask[idx1])"
   ]
  },
  {
   "cell_type": "code",
   "execution_count": null,
   "metadata": {},
   "outputs": [],
   "source": [
    "\n",
    "init,init_mask = X[10],X_mask[10]\n",
    "#time_init = batch_varifolld_barycenter_initializer(iKv,iKl,800,optimizer=optax.adam(warmup_cosine_decay_schedule(0,0.01,80,800,0)))\n",
    "bp,qbar,qbar_mask = batch_varifold_barycenter_registration(bX,bX_mask,Kv,Kl,init,init_mask,niter=800,optimizer=optax.adam(warmup_cosine_decay_schedule(0,0.01,80,800,0)))"
   ]
  },
  {
   "cell_type": "code",
   "execution_count": null,
   "metadata": {},
   "outputs": [],
   "source": [
    "plt.plot(*X[0].T)\n",
    "plt.plot(*qbar.T)"
   ]
  },
  {
   "cell_type": "code",
   "execution_count": null,
   "metadata": {},
   "outputs": [],
   "source": [
    "for x in X: \n",
    "    plt.plot(*x.T,color=\"black\",alpha=0.2)\n",
    "\n",
    "plt.plot(*qbar.T,color = \"red\")"
   ]
  },
  {
   "cell_type": "code",
   "execution_count": null,
   "metadata": {},
   "outputs": [],
   "source": [
    "\n",
    "plot2Dfigure(qbar,bX[0,1],bp[0,1],shoot,flow,qbar_mask,bX_mask[0,1])"
   ]
  },
  {
   "cell_type": "code",
   "execution_count": null,
   "metadata": {},
   "outputs": [],
   "source": [
    "from src.statistic import MomentaLDA, MomentaPCA\n",
    "y_train = np.array([(int(y)+1)/2 for y in data.y_train],dtype=int)\n",
    "\n"
   ]
  },
  {
   "cell_type": "markdown",
   "metadata": {},
   "source": [
    "## PCA "
   ]
  },
  {
   "cell_type": "code",
   "execution_count": null,
   "metadata": {},
   "outputs": [],
   "source": [
    "y_train = np.array([int(y) for y in data.y_train],dtype=int)\n",
    "y_train"
   ]
  },
  {
   "cell_type": "code",
   "execution_count": null,
   "metadata": {},
   "outputs": [],
   "source": [
    "ps = unbatch_dataset(bp)\n",
    "\n",
    "ps.shape"
   ]
  },
  {
   "cell_type": "code",
   "execution_count": null,
   "metadata": {},
   "outputs": [],
   "source": [
    "ncomp, ndisp = 2, 5\n",
    "pca = MomentaPCA(ncomp)\n",
    "ps = unbatch_dataset(bp)\n",
    "pca.fit(Kv,ps,qbar,qbar_mask)\n",
    "p0_bar = np.mean(ps,axis=0)\n",
    "k = 1\n",
    "fig,axs = plt.subplots(ncomp,ndisp,figsize = (ndisp*3,ncomp*3),sharex=True,sharey=True)\n",
    "for pca_index in range(ncomp):\n",
    "    sigma_pca = np.std(pca.p_score_[:,pca_index])\n",
    "    for alpha in np.linspace(-3*sigma_pca , 3*sigma_pca, ndisp):\n",
    "        p0_mode = p0_bar + alpha * pca.p_pc_[pca_index]\n",
    "        p,q = shoot(p0_mode,qbar,qbar_mask)\n",
    "        plt.subplot(ncomp,ndisp,k)        \n",
    "        plt.plot(*q.T)\n",
    "        k += 1\n",
    "plt.show()"
   ]
  },
  {
   "cell_type": "code",
   "execution_count": null,
   "metadata": {},
   "outputs": [],
   "source": [
    "plt.scatter(*pca.p_score_[y_train==-1].T)\n",
    "plt.scatter(*pca.p_score_[y_train==1].T)"
   ]
  },
  {
   "cell_type": "markdown",
   "metadata": {},
   "source": [
    "## LDA"
   ]
  },
  {
   "cell_type": "code",
   "execution_count": null,
   "metadata": {},
   "outputs": [],
   "source": [
    "lda = MomentaLDA()\n",
    "lda.fit(Kv,ps,qbar,qbar_mask,y_train)\n",
    "\n",
    "plt.scatter(lda.p_score_[0,y_train==-1], np.ones(np.sum(y_train==-1)))\n",
    "plt.scatter(lda.p_score_[0,y_train==1], np.ones(np.sum(y_train == 1)))"
   ]
  },
  {
   "cell_type": "code",
   "execution_count": null,
   "metadata": {},
   "outputs": [],
   "source": [
    "ndisp = 3\n",
    "#fig,axs = plt.subplots(1,ndisp,figsize = (ndisp*3,3),sharex=True,sharey=True)\n",
    "sigma = np.std(lda.p_score_)\n",
    "k=1\n",
    "for alpha in np.linspace(-10*sigma, 10*sigma, ndisp):\n",
    "    s_p0_mode =   alpha*lda.p_lda_[0]\n",
    "    _,q = shoot(s_p0_mode,qbar,qbar_mask)\n",
    "    #plt.subplot(1,ndisp,k)        \n",
    "    plt.plot(*q.T)\n",
    "    k += 1\n",
    "plt.show()"
   ]
  },
  {
   "cell_type": "code",
   "execution_count": null,
   "metadata": {},
   "outputs": [],
   "source": [
    "np.sum(y_train==1)"
   ]
  }
 ],
 "metadata": {
  "kernelspec": {
   "display_name": "jax-env",
   "language": "python",
   "name": "python3"
  },
  "language_info": {
   "codemirror_mode": {
    "name": "ipython",
    "version": 3
   },
   "file_extension": ".py",
   "mimetype": "text/x-python",
   "name": "python",
   "nbconvert_exporter": "python",
   "pygments_lexer": "ipython3",
   "version": "3.12.0"
  }
 },
 "nbformat": 4,
 "nbformat_minor": 2
}
