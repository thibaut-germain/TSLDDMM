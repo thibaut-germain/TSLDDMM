{
 "cells": [
  {
   "cell_type": "code",
   "execution_count": null,
   "metadata": {},
   "outputs": [],
   "source": [
    "import sys \n",
    "sys.path.insert(0,\"../\")\n",
    "\n",
    "import numpy as np \n",
    "import pandas as pd\n",
    "import matplotlib.pyplot as plt\n",
    "import jax.numpy as jnp\n",
    "from jax import value_and_grad,grad,jit\n",
    "import jax.lax as lax\n",
    "import jax\n",
    "\n",
    "from src.utils import batch_dataset"
   ]
  },
  {
   "cell_type": "markdown",
   "metadata": {},
   "source": [
    "# Load data"
   ]
  },
  {
   "cell_type": "code",
   "execution_count": null,
   "metadata": {},
   "outputs": [],
   "source": [
    "dataset = jnp.load(\"./dataset/dataset.npy\")\n",
    "masks = jnp.load(\"./dataset/masks.npy\")\n",
    "metadata = pd.read_csv(\"./dataset/metadata.csv\",index_col=0)"
   ]
  },
  {
   "cell_type": "code",
   "execution_count": null,
   "metadata": {},
   "outputs": [],
   "source": [
    "batched_dataset, batched_masks = batch_dataset(dataset,10,masks)"
   ]
  },
  {
   "cell_type": "code",
   "execution_count": null,
   "metadata": {},
   "outputs": [],
   "source": [
    "from src.barycenter import batch_varifold_barycenter_registration\n",
    "from src.kernel import TSGaussGaussKernel,TSGaussDotKernel,VFTSGaussKernel\n",
    "import optax"
   ]
  },
  {
   "cell_type": "code",
   "execution_count": null,
   "metadata": {},
   "outputs": [],
   "source": [
    "batched_dataset = batched_dataset[:2]\n",
    "batched_masks = batched_masks[:2]\n",
    "Kv = VFTSGaussKernel(1,0.1,30,1,1)\n",
    "Kl = TSGaussGaussKernel(2,2,2,2)\n",
    "#Kl = TSGaussDotKernel(10,1,1,1,2)\n",
    "#ps ,qb, qb_mask= batch_varifold_barycenter_registration(batched_dataset,batched_masks,Kv,Kl,niter=200,optimizer=optax.adam(learning_rate=0.1),gamma_loss=0.00)"
   ]
  },
  {
   "cell_type": "code",
   "execution_count": null,
   "metadata": {},
   "outputs": [],
   "source": [
    "def get_raw_signal(sig,mask): \n",
    "    idx = np.where(mask==True)[0]\n",
    "    return sig[idx]"
   ]
  },
  {
   "cell_type": "code",
   "execution_count": null,
   "metadata": {},
   "outputs": [],
   "source": [
    "for sig,mask in zip(dataset[:60],masks[:60]): \n",
    "    plt.plot(*get_raw_signal(sig,mask)[:,::2].T,color=\"black\",alpha=0.5)\n",
    "\n",
    "sig =  get_raw_signal(qb,qb_mask)\n",
    "plt.plot(*sig[:,::2].T,color=\"red\")"
   ]
  },
  {
   "cell_type": "code",
   "execution_count": null,
   "metadata": {},
   "outputs": [],
   "source": [
    "from src.masked.lddmm import Flowing,Shooting\n",
    "from src.plotting import plot2Dfigure"
   ]
  },
  {
   "cell_type": "code",
   "execution_count": null,
   "metadata": {},
   "outputs": [],
   "source": [
    "shoot = Shooting(Kv)\n",
    "p,q = shoot(ps[0,1],qb,qb_mask)"
   ]
  },
  {
   "cell_type": "code",
   "execution_count": null,
   "metadata": {},
   "outputs": [],
   "source": [
    "plt.plot(*get_raw_signal(batched_dataset[0,1],batched_masks[0,1])[:,::2].T,label=\"target\")\n",
    "plt.plot(*get_raw_signal(q,qb_mask)[:,::2].T,label=\"project\")\n",
    "plt.plot(*get_raw_signal(qb,qb_mask)[:,::2].T,label=\"barycenter\")\n",
    "plt.legend()"
   ]
  },
  {
   "cell_type": "code",
   "execution_count": null,
   "metadata": {},
   "outputs": [],
   "source": [
    "from src.statistic import MomentaPCA"
   ]
  },
  {
   "cell_type": "code",
   "execution_count": null,
   "metadata": {},
   "outputs": [],
   "source": [
    "tps = ps.reshape(-1,ps.shape[-2],ps.shape[-1])"
   ]
  },
  {
   "cell_type": "code",
   "execution_count": null,
   "metadata": {},
   "outputs": [],
   "source": [
    "metadata.PathologyGroup[:60].values"
   ]
  },
  {
   "cell_type": "code",
   "execution_count": null,
   "metadata": {},
   "outputs": [],
   "source": [
    "from sklearn.preprocessing import OrdinalEncoder"
   ]
  },
  {
   "cell_type": "code",
   "execution_count": null,
   "metadata": {},
   "outputs": [],
   "source": [
    "label = OrdinalEncoder().fit_transform(metadata.PathologyGroup[:60].values.reshape(-1,1)).squeeze()"
   ]
  },
  {
   "cell_type": "code",
   "execution_count": null,
   "metadata": {},
   "outputs": [],
   "source": [
    "mpca = MomentaPCA(3,masked=True)\n",
    "mpca.fit(Kv,tps,qb,qb_mask)\n",
    "plt.scatter(*mpca.p_score_[:,[0,2]].T,c=label)"
   ]
  },
  {
   "cell_type": "code",
   "execution_count": null,
   "metadata": {},
   "outputs": [],
   "source": [
    "import json "
   ]
  },
  {
   "cell_type": "code",
   "execution_count": null,
   "metadata": {},
   "outputs": [],
   "source": [
    "json.dumps(ps.tolist())"
   ]
  },
  {
   "cell_type": "code",
   "execution_count": null,
   "metadata": {},
   "outputs": [],
   "source": []
  }
 ],
 "metadata": {
  "kernelspec": {
   "display_name": "jax-env",
   "language": "python",
   "name": "python3"
  },
  "language_info": {
   "codemirror_mode": {
    "name": "ipython",
    "version": 3
   },
   "file_extension": ".py",
   "mimetype": "text/x-python",
   "name": "python",
   "nbconvert_exporter": "python",
   "pygments_lexer": "ipython3",
   "version": "3.12.0"
  }
 },
 "nbformat": 4,
 "nbformat_minor": 2
}
