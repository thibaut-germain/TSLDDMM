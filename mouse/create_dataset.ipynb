{
 "cells": [
  {
   "cell_type": "code",
   "execution_count": 1,
   "metadata": {},
   "outputs": [],
   "source": [
    "import numpy as np\n",
    "import pandas as pd\n",
    "import matplotlib.pyplot as plt \n",
    "from mne.io import read_raw_edf\n",
    "\n",
    "import sys\n",
    "sys.path.insert(0,\"../\")\n",
    "from src.utils import from_timeseries_to_dataset"
   ]
  },
  {
   "cell_type": "code",
   "execution_count": 2,
   "metadata": {},
   "outputs": [],
   "source": [
    "def time_str_to_sample(time_str,sampfreq): \n",
    "    samples = np.array([3600,60,1])*sampfreq\n",
    "    sample = 0\n",
    "    for t,s in zip(time_str.split(\":\"),samples): \n",
    "        sample += int(t)*s\n",
    "    return sample        "
   ]
  },
  {
   "cell_type": "code",
   "execution_count": 3,
   "metadata": {},
   "outputs": [],
   "source": [
    "SAMPFREQ = 2000\n",
    "N_SAMPLE = 7\n",
    "\n",
    "path_to_dataset = \"../../../dataset/mouse_dcp/\"\n",
    "df = pd.read_csv(path_to_dataset + \"mouse_list.csv\",delimiter=\";\",index_col=0)\n",
    "df = df.dropna().reset_index(drop=True)\n",
    "df[\"before_start\"] = df[\"before_start\"].apply(lambda x: time_str_to_sample(x,SAMPFREQ))\n",
    "df[\"before_end\"] = df[\"before_end\"].apply(lambda x: time_str_to_sample(x,SAMPFREQ))\n",
    "df[\"after_start\"] = df[\"after_start\"].apply(lambda x: time_str_to_sample(x,SAMPFREQ))\n",
    "df[\"after_end\"] = df[\"after_end\"].apply(lambda x: time_str_to_sample(x,SAMPFREQ))\n",
    "df = df[df[\"arret\"]==\"fin\"]\n",
    "lst = []\n",
    "for genotype in df.genotype.unique(): \n",
    "    lst.append(df[df.genotype == genotype].sample(N_SAMPLE))\n",
    "df = pd.concat(lst)"
   ]
  },
  {
   "cell_type": "code",
   "execution_count": 4,
   "metadata": {},
   "outputs": [],
   "source": [
    "from segmentation import PhaseSeg\n",
    "\n",
    "PROMINENCE = 0.03\n",
    "WLEN = 2\n",
    "MIN_CYCLE = 0.1\n",
    "MAX_CYCLE = 0.6 \n",
    "TRAINING_SIZE = 10 \n",
    "INTERVAL = 60 "
   ]
  },
  {
   "cell_type": "code",
   "execution_count": 5,
   "metadata": {},
   "outputs": [
    {
     "data": {
      "text/plain": [
       "[[1, 2], [1]]"
      ]
     },
     "execution_count": 5,
     "metadata": {},
     "output_type": "execute_result"
    }
   ],
   "source": [
    "np.array([[1,2],[1]],dtype=object).tolist()"
   ]
  },
  {
   "cell_type": "code",
   "execution_count": 6,
   "metadata": {},
   "outputs": [
    {
     "name": "stderr",
     "output_type": "stream",
     "text": [
      "/tmp/ipykernel_1213989/467272478.py:7: RuntimeWarning: Omitted 3 annotation(s) that were outside data range.\n",
      "  raw = read_raw_edf(path_to_dataset + line[0],verbose=False)\n",
      "/tmp/ipykernel_1213989/467272478.py:7: RuntimeWarning: Omitted 9 annotation(s) that were outside data range.\n",
      "  raw = read_raw_edf(path_to_dataset + line[0],verbose=False)\n",
      "/tmp/ipykernel_1213989/467272478.py:7: RuntimeWarning: Omitted 9 annotation(s) that were outside data range.\n",
      "  raw = read_raw_edf(path_to_dataset + line[0],verbose=False)\n",
      "/tmp/ipykernel_1213989/467272478.py:7: RuntimeWarning: Omitted 9 annotation(s) that were outside data range.\n",
      "  raw = read_raw_edf(path_to_dataset + line[0],verbose=False)\n",
      "/tmp/ipykernel_1213989/467272478.py:7: RuntimeWarning: Omitted 3 annotation(s) that were outside data range.\n",
      "  raw = read_raw_edf(path_to_dataset + line[0],verbose=False)\n",
      "/tmp/ipykernel_1213989/467272478.py:7: RuntimeWarning: Omitted 3 annotation(s) that were outside data range.\n",
      "  raw = read_raw_edf(path_to_dataset + line[0],verbose=False)\n",
      "/tmp/ipykernel_1213989/467272478.py:7: RuntimeWarning: Omitted 3 annotation(s) that were outside data range.\n",
      "  raw = read_raw_edf(path_to_dataset + line[0],verbose=False)\n",
      "/tmp/ipykernel_1213989/467272478.py:7: RuntimeWarning: Omitted 3 annotation(s) that were outside data range.\n",
      "  raw = read_raw_edf(path_to_dataset + line[0],verbose=False)\n",
      "/tmp/ipykernel_1213989/467272478.py:7: RuntimeWarning: Omitted 9 annotation(s) that were outside data range.\n",
      "  raw = read_raw_edf(path_to_dataset + line[0],verbose=False)\n",
      "/tmp/ipykernel_1213989/467272478.py:7: RuntimeWarning: Omitted 9 annotation(s) that were outside data range.\n",
      "  raw = read_raw_edf(path_to_dataset + line[0],verbose=False)\n",
      "/tmp/ipykernel_1213989/467272478.py:7: RuntimeWarning: Omitted 3 annotation(s) that were outside data range.\n",
      "  raw = read_raw_edf(path_to_dataset + line[0],verbose=False)\n",
      "/tmp/ipykernel_1213989/467272478.py:7: RuntimeWarning: Omitted 3 annotation(s) that were outside data range.\n",
      "  raw = read_raw_edf(path_to_dataset + line[0],verbose=False)\n",
      "/tmp/ipykernel_1213989/467272478.py:7: RuntimeWarning: Omitted 9 annotation(s) that were outside data range.\n",
      "  raw = read_raw_edf(path_to_dataset + line[0],verbose=False)\n",
      "/tmp/ipykernel_1213989/467272478.py:7: RuntimeWarning: Omitted 9 annotation(s) that were outside data range.\n",
      "  raw = read_raw_edf(path_to_dataset + line[0],verbose=False)\n",
      "/tmp/ipykernel_1213989/467272478.py:7: RuntimeWarning: Omitted 9 annotation(s) that were outside data range.\n",
      "  raw = read_raw_edf(path_to_dataset + line[0],verbose=False)\n",
      "/tmp/ipykernel_1213989/467272478.py:7: RuntimeWarning: Omitted 9 annotation(s) that were outside data range.\n",
      "  raw = read_raw_edf(path_to_dataset + line[0],verbose=False)\n",
      "/tmp/ipykernel_1213989/467272478.py:7: RuntimeWarning: Omitted 6 annotation(s) that were outside data range.\n",
      "  raw = read_raw_edf(path_to_dataset + line[0],verbose=False)\n",
      "/tmp/ipykernel_1213989/467272478.py:7: RuntimeWarning: Omitted 3 annotation(s) that were outside data range.\n",
      "  raw = read_raw_edf(path_to_dataset + line[0],verbose=False)\n",
      "/tmp/ipykernel_1213989/467272478.py:7: RuntimeWarning: Omitted 3 annotation(s) that were outside data range.\n",
      "  raw = read_raw_edf(path_to_dataset + line[0],verbose=False)\n",
      "/tmp/ipykernel_1213989/467272478.py:7: RuntimeWarning: Omitted 3 annotation(s) that were outside data range.\n",
      "  raw = read_raw_edf(path_to_dataset + line[0],verbose=False)\n",
      "/tmp/ipykernel_1213989/467272478.py:7: RuntimeWarning: Omitted 3 annotation(s) that were outside data range.\n",
      "  raw = read_raw_edf(path_to_dataset + line[0],verbose=False)\n",
      "/tmp/ipykernel_1213989/467272478.py:7: RuntimeWarning: Omitted 3 annotation(s) that were outside data range.\n",
      "  raw = read_raw_edf(path_to_dataset + line[0],verbose=False)\n",
      "/tmp/ipykernel_1213989/467272478.py:7: RuntimeWarning: Omitted 9 annotation(s) that were outside data range.\n",
      "  raw = read_raw_edf(path_to_dataset + line[0],verbose=False)\n",
      "/tmp/ipykernel_1213989/467272478.py:7: RuntimeWarning: Omitted 9 annotation(s) that were outside data range.\n",
      "  raw = read_raw_edf(path_to_dataset + line[0],verbose=False)\n",
      "/tmp/ipykernel_1213989/467272478.py:7: RuntimeWarning: Omitted 9 annotation(s) that were outside data range.\n",
      "  raw = read_raw_edf(path_to_dataset + line[0],verbose=False)\n",
      "/tmp/ipykernel_1213989/467272478.py:7: RuntimeWarning: Omitted 9 annotation(s) that were outside data range.\n",
      "  raw = read_raw_edf(path_to_dataset + line[0],verbose=False)\n",
      "/tmp/ipykernel_1213989/467272478.py:7: RuntimeWarning: Omitted 3 annotation(s) that were outside data range.\n",
      "  raw = read_raw_edf(path_to_dataset + line[0],verbose=False)\n",
      "/tmp/ipykernel_1213989/467272478.py:7: RuntimeWarning: Omitted 3 annotation(s) that were outside data range.\n",
      "  raw = read_raw_edf(path_to_dataset + line[0],verbose=False)\n"
     ]
    }
   ],
   "source": [
    "# dimensions : [Thorax, Nasal]\n",
    "\n",
    "np.random.seed(0)\n",
    "y = []\n",
    "X = []\n",
    "for line in df.values: \n",
    "    raw = read_raw_edf(path_to_dataset + line[0],verbose=False)\n",
    "    data = -raw.get_data()\n",
    "    nasal_data = data[1,:]\n",
    "    #before\n",
    "    s,e = line[2],line[3]\n",
    "    phs = PhaseSeg(SAMPFREQ,PROMINENCE,WLEN,MIN_CYCLE,MAX_CYCLE,TRAINING_SIZE,INTERVAL)\n",
    "    phs.fit(nasal_data[s:e])\n",
    "    t_X = phs.get_cycle_data(data[:,s:e],phs.training_selection_).tolist()\n",
    "    X += t_X\n",
    "    label = [[line[0],line[1],\"Y\"]]*len(t_X)\n",
    "    y.append(np.hstack((np.array(label),phs.get_cycle_index()[phs.training_selection_])))\n",
    "    #after\n",
    "    s,e = line[4],line[5]\n",
    "    phs = PhaseSeg(SAMPFREQ,PROMINENCE,WLEN,MIN_CYCLE,MAX_CYCLE,TRAINING_SIZE,INTERVAL)\n",
    "    phs.fit(nasal_data[s:e])\n",
    "    t_X = phs.get_cycle_data(data[:,s:e],phs.training_selection_).tolist()\n",
    "    X += t_X\n",
    "    label = [[line[0],line[1],\"N\"]]*len(t_X)\n",
    "    y.append(np.hstack((np.array(label),phs.get_cycle_index()[phs.training_selection_])))\n",
    "\n",
    "y = np.concatenate(y)\n",
    "X,X_mask = from_timeseries_to_dataset(X)\n",
    "\n",
    "ldf = pd.DataFrame(y,columns=[\"filename\",\"genotype\", \"before\",\"start\",\"end\"])\n",
    "ldf.start = ldf.start.astype(int)\n",
    "ldf.end = ldf.end.astype(int)"
   ]
  },
  {
   "cell_type": "code",
   "execution_count": 7,
   "metadata": {},
   "outputs": [
    {
     "name": "stdout",
     "output_type": "stream",
     "text": [
      "(11479, 1200, 3)\n"
     ]
    }
   ],
   "source": [
    "print(X.shape)"
   ]
  },
  {
   "cell_type": "code",
   "execution_count": 8,
   "metadata": {},
   "outputs": [
    {
     "data": {
      "text/plain": [
       "[<matplotlib.lines.Line2D at 0x7f5edafe0c50>,\n",
       " <matplotlib.lines.Line2D at 0x7f5ed66ca850>]"
      ]
     },
     "execution_count": 8,
     "metadata": {},
     "output_type": "execute_result"
    },
    {
     "data": {
      "image/png": "[encoded data removed]",
      "text/plain": [
       "<Figure size 640x480 with 1 Axes>"
      ]
     },
     "metadata": {},
     "output_type": "display_data"
    }
   ],
   "source": [
    "plt.plot(*X[1][X_mask[1].squeeze(),:].T)"
   ]
  },
  {
   "cell_type": "code",
   "execution_count": 9,
   "metadata": {},
   "outputs": [],
   "source": [
    "ldf.to_csv(\"./dataset/y.csv\")\n",
    "np.save(\"./dataset/X.npy\",X)\n",
    "np.save(\"./dataset/X_mask.npy\",X_mask)"
   ]
  }
 ],
 "metadata": {
  "kernelspec": {
   "display_name": "bakeoff",
   "language": "python",
   "name": "python3"
  },
  "language_info": {
   "codemirror_mode": {
    "name": "ipython",
    "version": 3
   },
   "file_extension": ".py",
   "mimetype": "text/x-python",
   "name": "python",
   "nbconvert_exporter": "python",
   "pygments_lexer": "ipython3",
   "version": "3.11.7"
  }
 },
 "nbformat": 4,
 "nbformat_minor": 2
}
